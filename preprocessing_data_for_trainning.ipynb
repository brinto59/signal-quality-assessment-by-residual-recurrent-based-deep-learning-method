{
 "cells": [
  {
   "cell_type": "code",
   "execution_count": 1,
   "id": "8e55d222",
   "metadata": {},
   "outputs": [],
   "source": [
    "import pandas as pd\n",
    "import numpy as np"
   ]
  },
  {
   "cell_type": "code",
   "execution_count": 2,
   "id": "413345e5",
   "metadata": {},
   "outputs": [],
   "source": [
    "df = pd.read_table('./set-a/1002603.txt', sep=',', header=0, names=['I' ,'II', 'III', 'aVR', 'aVF', 'aVL', 'V1', 'V2', 'V3', 'V4', 'V5','V6'], index_col=0)[['I', 'II']]"
   ]
  },
  {
   "cell_type": "code",
   "execution_count": 3,
   "id": "abd73f25",
   "metadata": {},
   "outputs": [
    {
     "data": {
      "text/plain": [
       "(4000, 2)"
      ]
     },
     "execution_count": 3,
     "metadata": {},
     "output_type": "execute_result"
    }
   ],
   "source": [
    "df.iloc[0:4000, :].values.shape\n"
   ]
  },
  {
   "cell_type": "markdown",
   "id": "339db0f6",
   "metadata": {},
   "source": [
    "## preprocessing acceptable data"
   ]
  },
  {
   "cell_type": "code",
   "execution_count": 4,
   "id": "53f86c53",
   "metadata": {},
   "outputs": [],
   "source": [
    "record_list = np.loadtxt('./set-a/RECORDS-acceptable', dtype='int')"
   ]
  },
  {
   "cell_type": "code",
   "execution_count": 5,
   "id": "ea1d6d66",
   "metadata": {},
   "outputs": [
    {
     "data": {
      "text/plain": [
       "(773,)"
      ]
     },
     "execution_count": 5,
     "metadata": {},
     "output_type": "execute_result"
    }
   ],
   "source": [
    "record_list.shape"
   ]
  },
  {
   "cell_type": "code",
   "execution_count": 6,
   "id": "c9de49ab",
   "metadata": {},
   "outputs": [
    {
     "data": {
      "text/plain": [
       "(2, 4000)"
      ]
     },
     "execution_count": 6,
     "metadata": {},
     "output_type": "execute_result"
    }
   ],
   "source": [
    "temp = pd.read_table(f'./set-a/{record_list[0]}.txt', sep=',', header=0, names=['I' ,'II', 'III', 'aVR', 'aVF', 'aVL', 'V1', 'V2', 'V3', 'V4', 'V5','V6'], index_col=0)\n",
    "X_acceptable = [temp[['I']].iloc[0:4000, :].values]\n",
    "X_acceptable = np.append(X_acceptable, [temp[['II']].iloc[0:4000, :].values], axis = 0)\n",
    "X_acceptable = X_acceptable.reshape(2, 4000)\n",
    "X_acceptable.shape"
   ]
  },
  {
   "cell_type": "code",
   "execution_count": 7,
   "id": "42d46ade",
   "metadata": {},
   "outputs": [],
   "source": [
    "y_acceptable = ['acceptable', 'acceptable']"
   ]
  },
  {
   "cell_type": "code",
   "execution_count": 8,
   "id": "8bac20ea",
   "metadata": {},
   "outputs": [],
   "source": [
    "for i in range(1, record_list.shape[0]):\n",
    "    temp = pd.read_table(f'./set-a/{record_list[i]}.txt', sep=',', header=0, names=['I' ,'II', 'III', 'aVR', 'aVF', 'aVL', 'V1', 'V2', 'V3', 'V4', 'V5','V6'], index_col=0)\n",
    "    X_acceptable = np.append(X_acceptable, temp[['I']].iloc[0:4000, :].values.reshape(1, 4000), axis = 0)\n",
    "    y_acceptable = np.append(y_acceptable, 'acceptable')\n",
    "    X_acceptable = np.append(X_acceptable, temp[['II']].iloc[0:4000, :].values.reshape(1,4000), axis = 0)\n",
    "    y_acceptable = np.append(y_acceptable, 'acceptable')\n"
   ]
  },
  {
   "cell_type": "code",
   "execution_count": 12,
   "id": "6db7012c",
   "metadata": {
    "scrolled": true
   },
   "outputs": [
    {
     "data": {
      "text/plain": [
       "(1546, 4000)"
      ]
     },
     "execution_count": 12,
     "metadata": {},
     "output_type": "execute_result"
    }
   ],
   "source": [
    "X_acceptable.shape"
   ]
  },
  {
   "cell_type": "code",
   "execution_count": 13,
   "id": "f9c3f3cb",
   "metadata": {},
   "outputs": [
    {
     "data": {
      "text/plain": [
       "(1546,)"
      ]
     },
     "execution_count": 13,
     "metadata": {},
     "output_type": "execute_result"
    }
   ],
   "source": [
    "y_acceptable.shape"
   ]
  },
  {
   "cell_type": "markdown",
   "id": "37fe6f7c",
   "metadata": {},
   "source": [
    "## preprocessing unacceptable data"
   ]
  },
  {
   "cell_type": "code",
   "execution_count": 14,
   "id": "2cd54cb5",
   "metadata": {},
   "outputs": [],
   "source": [
    "record_list = np.loadtxt('./set-a/RECORDS-unacceptable', dtype='int')"
   ]
  },
  {
   "cell_type": "code",
   "execution_count": 15,
   "id": "b6ba0dbb",
   "metadata": {},
   "outputs": [
    {
     "data": {
      "text/plain": [
       "(225,)"
      ]
     },
     "execution_count": 15,
     "metadata": {},
     "output_type": "execute_result"
    }
   ],
   "source": [
    "record_list.shape"
   ]
  },
  {
   "cell_type": "code",
   "execution_count": 16,
   "id": "e0eeac02",
   "metadata": {},
   "outputs": [
    {
     "data": {
      "text/plain": [
       "(2, 4000)"
      ]
     },
     "execution_count": 16,
     "metadata": {},
     "output_type": "execute_result"
    }
   ],
   "source": [
    "temp = pd.read_table(f'./set-a/{record_list[0]}.txt', sep=',', header=0, names=['I' ,'II', 'III', 'aVR', 'aVF', 'aVL', 'V1', 'V2', 'V3', 'V4', 'V5','V6'], index_col=0)\n",
    "X_unacceptable = [temp[['I']].iloc[0:4000, :].values]\n",
    "X_unacceptable = np.append(X_unacceptable, [temp[['II']].iloc[0:4000, :].values], axis = 0)\n",
    "X_unacceptable = X_unacceptable.reshape(2, 4000)\n",
    "X_unacceptable.shape"
   ]
  },
  {
   "cell_type": "code",
   "execution_count": 17,
   "id": "3af4bbeb",
   "metadata": {},
   "outputs": [],
   "source": [
    "y_unacceptable = ['unacceptable', 'unacceptable']"
   ]
  },
  {
   "cell_type": "code",
   "execution_count": 18,
   "id": "26cced04",
   "metadata": {},
   "outputs": [],
   "source": [
    "for i in range(1, record_list.shape[0]):\n",
    "    temp = pd.read_table(f'./set-a/{record_list[i]}.txt', sep=',', header=0, names=['I' ,'II', 'III', 'aVR', 'aVF', 'aVL', 'V1', 'V2', 'V3', 'V4', 'V5','V6'], index_col=0)\n",
    "    X_unacceptable = np.append(X_unacceptable, temp[['I']].iloc[0:4000, :].values.reshape(1, 4000), axis = 0)\n",
    "    y_unacceptable = np.append(y_unacceptable, 'unacceptable')\n",
    "    X_unacceptable = np.append(X_unacceptable, temp[['II']].iloc[0:4000, :].values.reshape(1,4000), axis = 0)\n",
    "    y_unacceptable = np.append(y_unacceptable, 'unacceptable')"
   ]
  },
  {
   "cell_type": "code",
   "execution_count": 19,
   "id": "48ba3628",
   "metadata": {},
   "outputs": [
    {
     "data": {
      "text/plain": [
       "(450, 4000)"
      ]
     },
     "execution_count": 19,
     "metadata": {},
     "output_type": "execute_result"
    }
   ],
   "source": [
    "X_unacceptable.shape"
   ]
  },
  {
   "cell_type": "code",
   "execution_count": 20,
   "id": "ce040da5",
   "metadata": {},
   "outputs": [
    {
     "data": {
      "text/plain": [
       "(450,)"
      ]
     },
     "execution_count": 20,
     "metadata": {},
     "output_type": "execute_result"
    }
   ],
   "source": [
    "y_unacceptable.shape"
   ]
  },
  {
   "cell_type": "markdown",
   "id": "7047b4da",
   "metadata": {},
   "source": [
    "## making the training dataset"
   ]
  },
  {
   "cell_type": "code",
   "execution_count": 21,
   "id": "48da5ae1",
   "metadata": {},
   "outputs": [],
   "source": [
    "X_train = np.append(X_acceptable, X_unacceptable, axis = 0)"
   ]
  },
  {
   "cell_type": "code",
   "execution_count": 22,
   "id": "709ce36f",
   "metadata": {},
   "outputs": [],
   "source": [
    "y_train = np.append(y_acceptable, y_unacceptable, axis = 0)"
   ]
  },
  {
   "cell_type": "code",
   "execution_count": 23,
   "id": "13edebc8",
   "metadata": {},
   "outputs": [
    {
     "data": {
      "text/plain": [
       "(1996, 4000)"
      ]
     },
     "execution_count": 23,
     "metadata": {},
     "output_type": "execute_result"
    }
   ],
   "source": [
    "X_train.shape"
   ]
  },
  {
   "cell_type": "code",
   "execution_count": 24,
   "id": "16464255",
   "metadata": {},
   "outputs": [
    {
     "data": {
      "text/plain": [
       "(1996,)"
      ]
     },
     "execution_count": 24,
     "metadata": {},
     "output_type": "execute_result"
    }
   ],
   "source": [
    "y_train.shape"
   ]
  },
  {
   "cell_type": "code",
   "execution_count": 25,
   "id": "0de7b433",
   "metadata": {},
   "outputs": [],
   "source": [
    "y_train = y_train.reshape(1996, 1)"
   ]
  },
  {
   "cell_type": "code",
   "execution_count": 26,
   "id": "d8aebf6c",
   "metadata": {},
   "outputs": [],
   "source": [
    "dataset = np.append(X_train, y_train, axis = 1)"
   ]
  },
  {
   "cell_type": "code",
   "execution_count": 27,
   "id": "8b1b6037",
   "metadata": {
    "scrolled": true
   },
   "outputs": [
    {
     "data": {
      "text/plain": [
       "(1996, 4001)"
      ]
     },
     "execution_count": 27,
     "metadata": {},
     "output_type": "execute_result"
    }
   ],
   "source": [
    "dataset.shape"
   ]
  },
  {
   "cell_type": "code",
   "execution_count": 28,
   "id": "da485f21",
   "metadata": {
    "scrolled": true
   },
   "outputs": [
    {
     "data": {
      "text/plain": [
       "array(['-300', '-298', '-296', ..., '8', '8', 'acceptable'], dtype='<U21')"
      ]
     },
     "execution_count": 28,
     "metadata": {},
     "output_type": "execute_result"
    }
   ],
   "source": [
    "dataset[0]"
   ]
  },
  {
   "cell_type": "code",
   "execution_count": 29,
   "id": "83e09c04",
   "metadata": {},
   "outputs": [],
   "source": [
    "np.random.shuffle(dataset)"
   ]
  },
  {
   "cell_type": "code",
   "execution_count": 30,
   "id": "e5ecc1cf",
   "metadata": {},
   "outputs": [],
   "source": [
    "X_train = dataset[:, 0:4000]"
   ]
  },
  {
   "cell_type": "code",
   "execution_count": 31,
   "id": "4816dcae",
   "metadata": {},
   "outputs": [],
   "source": [
    "X_train = np.asfarray(X_train,float)"
   ]
  },
  {
   "cell_type": "code",
   "execution_count": 32,
   "id": "3db690fb",
   "metadata": {},
   "outputs": [
    {
     "data": {
      "text/plain": [
       "(1996, 4000)"
      ]
     },
     "execution_count": 32,
     "metadata": {},
     "output_type": "execute_result"
    }
   ],
   "source": [
    "X_train.shape"
   ]
  },
  {
   "cell_type": "code",
   "execution_count": 33,
   "id": "704cd262",
   "metadata": {},
   "outputs": [],
   "source": [
    "y_train = dataset[:, -1]"
   ]
  },
  {
   "cell_type": "code",
   "execution_count": 34,
   "id": "7327915d",
   "metadata": {},
   "outputs": [
    {
     "data": {
      "text/plain": [
       "(1996,)"
      ]
     },
     "execution_count": 34,
     "metadata": {},
     "output_type": "execute_result"
    }
   ],
   "source": [
    "y_train.shape"
   ]
  },
  {
   "cell_type": "code",
   "execution_count": 35,
   "id": "e3f3eac3",
   "metadata": {},
   "outputs": [],
   "source": [
    "from sklearn.preprocessing import LabelEncoder"
   ]
  },
  {
   "cell_type": "code",
   "execution_count": 36,
   "id": "f8e32c6a",
   "metadata": {},
   "outputs": [
    {
     "data": {
      "text/plain": [
       "array(['acceptable', 'acceptable', 'acceptable', 'unacceptable',\n",
       "       'unacceptable'], dtype='<U21')"
      ]
     },
     "execution_count": 36,
     "metadata": {},
     "output_type": "execute_result"
    }
   ],
   "source": [
    "y_train[:5]"
   ]
  },
  {
   "cell_type": "code",
   "execution_count": 37,
   "id": "5dd46d47",
   "metadata": {},
   "outputs": [],
   "source": [
    "labelencoder = LabelEncoder()\n",
    "y_train = labelencoder.fit_transform(y_train)"
   ]
  },
  {
   "cell_type": "code",
   "execution_count": 38,
   "id": "89c32180",
   "metadata": {},
   "outputs": [
    {
     "data": {
      "text/plain": [
       "array([0, 0, 0, 1, 1], dtype=int64)"
      ]
     },
     "execution_count": 38,
     "metadata": {},
     "output_type": "execute_result"
    }
   ],
   "source": [
    "y_train[:5]"
   ]
  },
  {
   "cell_type": "code",
   "execution_count": 71,
   "id": "403c0bf6",
   "metadata": {},
   "outputs": [],
   "source": [
    "y_train = y_train.reshape(1996, 1)\n",
    "dataset = np.append(X_train, y_train, axis = 1)"
   ]
  },
  {
   "cell_type": "code",
   "execution_count": 47,
   "id": "b60f96a9",
   "metadata": {},
   "outputs": [
    {
     "data": {
      "text/plain": [
       "array([[1],\n",
       "       [0],\n",
       "       [0],\n",
       "       ...,\n",
       "       [1],\n",
       "       [1],\n",
       "       [0]], dtype=int64)"
      ]
     },
     "execution_count": 47,
     "metadata": {},
     "output_type": "execute_result"
    }
   ],
   "source": [
    "y_train"
   ]
  },
  {
   "cell_type": "code",
   "execution_count": 72,
   "id": "2307cb93",
   "metadata": {},
   "outputs": [],
   "source": [
    "import pickle\n",
    "with open('training_dataset.pkl', 'wb') as f:\n",
    "     pickle.dump(dataset, f)"
   ]
  }
 ],
 "metadata": {
  "kernelspec": {
   "display_name": "Python 3 (ipykernel)",
   "language": "python",
   "name": "python3"
  },
  "language_info": {
   "codemirror_mode": {
    "name": "ipython",
    "version": 3
   },
   "file_extension": ".py",
   "mimetype": "text/x-python",
   "name": "python",
   "nbconvert_exporter": "python",
   "pygments_lexer": "ipython3",
   "version": "3.11.0"
  }
 },
 "nbformat": 4,
 "nbformat_minor": 5
}
